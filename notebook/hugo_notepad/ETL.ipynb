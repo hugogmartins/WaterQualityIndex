{
  "metadata": {
    "kernelspec": {
      "name": "python",
      "display_name": "Python (Pyodide)",
      "language": "python"
    },
    "language_info": {
      "codemirror_mode": {
        "name": "python",
        "version": 3
      },
      "file_extension": ".py",
      "mimetype": "text/x-python",
      "name": "python",
      "nbconvert_exporter": "python",
      "pygments_lexer": "ipython3",
      "version": "3.8"
    }
  },
  "nbformat_minor": 4,
  "nbformat": 4,
  "cells": [
    {
      "cell_type": "code",
      "source": "from sklearn.metrics.pairwise import pairwise_distances",
      "metadata": {
        "trusted": true
      },
      "outputs": [],
      "execution_count": 175
    },
    {
      "cell_type": "code",
      "source": "import numpy as np",
      "metadata": {
        "trusted": true
      },
      "outputs": [],
      "execution_count": 176
    },
    {
      "cell_type": "code",
      "source": "from sklearn.impute import KNNImputer",
      "metadata": {
        "trusted": true
      },
      "outputs": [],
      "execution_count": 244
    },
    {
      "cell_type": "code",
      "source": "df1 = pd.read_csv('output_1.csv')\ndf2 = pd.read_csv('output_2.csv')\ndf3 = pd.read_csv('output_3.csv')\ndf4 = pd.read_csv('output_4.csv')\ndf5 = pd.read_csv('output_5.csv')",
      "metadata": {
        "trusted": true
      },
      "outputs": [],
      "execution_count": 190
    },
    {
      "cell_type": "code",
      "source": "df_selecionada1 = df1[['13_Nitratos_mgl_n)',  '17_OD_mgl_02', '18_PH', '46_Coliformes_Fecais_nmp_100ml', '47_Coliformes_Totais_nmp_100ml', '50_Condutivida_de_Eletrica_us_cm_a_20c', '7_DBO_mgl_02)']]\ndf_selecionada2 = df2[['13_Nitratos_mgl_n) ',  '17_OD_mgl_02 ', '18_PH ', '46_Coliformes_Fecais_nmp_100ml ', '47_Coliformes_Totais_nmp_100ml ', '50_Condutivida_de_Eletrica_us_cm_a_20c ', '7_DBO_mgl_02) ']]\ndf_selecionada3 = df3[['13_Nitratos_mgl_n)',  '17_OD_mgl_02', '18_PH', '46_Coliformes_Fecais_nmp_100ml', '47_Coliformes_Totais_nmp_100ml', '50_Condutivida_de_Eletrica_us_cm_a_20c', '7_DBO_mgl_02)']]\ndf_selecionada4 = df4[['13_Nitratos_mgl_n)',  '17_OD_mgl_02', '18_PH', '46_Coliformes_Fecais_nmp_100ml', '47_Coliformes_Totais_nmp_100ml', '50_Condutivida_de_Eletrica_us_cm_a_20c', '7_DBO_mgl_02)']]\ndf_selecionada5 = df5[['13_Nitratos_mgl_n) ',  '17_OD_mgl_02 ', '18_PH ', '46_Coliformes_Fecais_nmp_100ml ', '47_Coliformes_Totais_nmp_100ml ', '50_Condutivida_de_Eletrica_us_cm_a_20c ', '7_DBO_mgl_02) ']]",
      "metadata": {
        "trusted": true
      },
      "outputs": [],
      "execution_count": 204
    },
    {
      "cell_type": "code",
      "source": "df_selecionada1.columns = ['Nitrato', 'OD', 'Ph', 'ColFecais', 'ColTotais', 'Condutividade', 'DBO']\ndf_selecionada2.columns = ['Nitrato', 'OD', 'Ph', 'ColFecais', 'ColTotais', 'Condutividade', 'DBO']\ndf_selecionada3.columns = ['Nitrato', 'OD', 'Ph', 'ColFecais', 'ColTotais', 'Condutividade', 'DBO']\ndf_selecionada4.columns = ['Nitrato', 'OD', 'Ph', 'ColFecais', 'ColTotais', 'Condutividade', 'DBO']\ndf_selecionada5.columns = ['Nitrato', 'OD', 'Ph', 'ColFecais', 'ColTotais', 'Condutividade', 'DBO']",
      "metadata": {
        "trusted": true
      },
      "outputs": [],
      "execution_count": 205
    },
    {
      "cell_type": "code",
      "source": "linhas_com_nulos = df_selecionada1.isnull().any(axis=1).sum() + df_selecionada2.isnull().any(axis=1).sum() + df_selecionada3.isnull().any(axis=1).sum() + df_selecionada4.isnull().any(axis=1).sum() + df_selecionada5.isnull().any(axis=1).sum()\n\nprint(linhas_com_nulos)",
      "metadata": {
        "trusted": true
      },
      "outputs": [
        {
          "name": "stdout",
          "text": "3983\n",
          "output_type": "stream"
        }
      ],
      "execution_count": 206
    },
    {
      "cell_type": "code",
      "source": "total_linhas = df_selecionada1.shape[0] + df_selecionada2.shape[0] + df_selecionada3.shape[0] + df_selecionada4.shape[0] + df_selecionada5.shape[0]\n\nprint(total_linhas)",
      "metadata": {
        "trusted": true
      },
      "outputs": [
        {
          "name": "stdout",
          "text": "6691\n",
          "output_type": "stream"
        }
      ],
      "execution_count": 207
    },
    {
      "cell_type": "code",
      "source": "def converter_colunas_para_float(df):\n    # Substituir strings vazias ou espaços em branco por NaN\n    df = df.replace(r'^\\s*$', np.nan, regex=True)\n    \n    # Converter todas as colunas para float, lidando com erros\n    df_float = df.apply(pd.to_numeric, errors='coerce')\n    \n    return df_float\n\ndf_selecionada1 = converter_colunas_para_float(df_selecionada1)\ndf_selecionada2 = converter_colunas_para_float(df_selecionada2)\ndf_selecionada3 = converter_colunas_para_float(df_selecionada3)\ndf_selecionada4 = converter_colunas_para_float(df_selecionada4)\ndf_selecionada5 = converter_colunas_para_float(df_selecionada5)",
      "metadata": {
        "trusted": true
      },
      "outputs": [],
      "execution_count": 223
    },
    {
      "cell_type": "code",
      "source": "def proximidade(df_selecionada):\n    df_filled = df_selecionada.fillna(0)\n\n    dist_matrix = pairwise_distances(df_filled, metric='euclidean')\n\n    df_imputed = df_selecionada.copy()\n\n    for i in range(df_selecionada.shape[0]):\n        for j in df_selecionada.columns:\n            if pd.isna(df_selecionada.loc[i, j]):\n                similar_lines = np.argsort(dist_matrix[i])[:500]\n                values = [df_selecionada.loc[sim, j] for sim in similar_lines if not pd.isna(df_selecionada.loc[sim, j])]\n                if values:\n                    df_imputed.loc[i, j] = np.mean(values)\n    return df_imputed\n",
      "metadata": {
        "trusted": true
      },
      "outputs": [],
      "execution_count": 224
    },
    {
      "cell_type": "code",
      "source": "df_imputed1 = proximidade(df_selecionada1)\ndf_imputed2 = proximidade(df_selecionada2)\ndf_imputed3 = proximidade(df_selecionada3)\ndf_imputed4 = proximidade(df_selecionada4)\ndf_imputed5 = proximidade(df_selecionada5)",
      "metadata": {
        "trusted": true
      },
      "outputs": [],
      "execution_count": 225
    },
    {
      "cell_type": "code",
      "source": "linhas_com_nulos1 = df_imputed1.isnull().any(axis=1).sum()\nlinhas_com_nulos2 = df_imputed2.isnull().any(axis=1).sum()\nlinhas_com_nulos3 = df_imputed3.isnull().any(axis=1).sum()\nlinhas_com_nulos4 = df_imputed4.isnull().any(axis=1).sum()\nlinhas_com_nulos5 = df_imputed5.isnull().any(axis=1).sum()\n\nprint(f\"1: {linhas_com_nulos1} ; 2: {linhas_com_nulos2} ; 3: {linhas_com_nulos3} ; 4: {linhas_com_nulos4} ; 5: {linhas_com_nulos5}\")",
      "metadata": {
        "trusted": true
      },
      "outputs": [
        {
          "name": "stdout",
          "text": "1: 0 ; 2: 0 ; 3: 0 ; 4: 0 ; 5: 0\n",
          "output_type": "stream"
        }
      ],
      "execution_count": 233
    },
    {
      "cell_type": "code",
      "source": "def preencher_nulos_com_knn(df, n_neighbors=5):\n    # Inicializa o imputador KNN\n    imputador = KNNImputer(n_neighbors=n_neighbors)\n    \n    # Transforma a tabela em um array NumPy\n    df_array = df.values\n    \n    # Preenche valores nulos\n    df_preenchida_array = imputador.fit_transform(df_array)\n    \n    # Converte o array de volta para um DataFrame\n    df_preenchida = pd.DataFrame(df_preenchida_array, columns=df.columns)\n    \n    return df_preenchida\n\npreencher_nulos_com_knn(df_selecionada1)\npreencher_nulos_com_knn(df_selecionada2)\npreencher_nulos_com_knn(df_selecionada3)\npreencher_nulos_com_knn(df_selecionada4)\npreencher_nulos_com_knn(df_selecionada5)",
      "metadata": {
        "trusted": true
      },
      "outputs": [
        {
          "execution_count": 245,
          "output_type": "execute_result",
          "data": {
            "text/plain": "     Nitrato   OD     Ph  ColFecais  ColTotais  Condutividade    DBO\n0      0.338  3.8  6.558     3385.0   58961.20         115.44   2.00\n1      0.312  2.2  6.650    64340.0   51324.40         127.16  35.72\n2      0.164  3.3  6.490     1102.0    5966.40         139.74   2.00\n3      0.614  4.1  6.390     3436.4   59943.20          86.22   7.80\n4      0.312  2.2  6.640    64340.0   51324.40         127.16  35.72\n..       ...  ...    ...        ...        ...            ...    ...\n495    0.416  6.5  7.500     6626.6   10152.40          90.80   1.60\n496    0.494  4.6  7.680     1406.4   50868.80          89.60   7.80\n497    0.096  5.5  6.940    10492.0    6688.06          75.98   2.34\n498    0.384  6.8  7.510      940.4    2203.00         102.60   2.00\n499    0.672  8.3  7.020      602.0    3511.62          87.00   2.00\n\n[500 rows x 7 columns]",
            "text/html": "<div>\n<style scoped>\n    .dataframe tbody tr th:only-of-type {\n        vertical-align: middle;\n    }\n\n    .dataframe tbody tr th {\n        vertical-align: top;\n    }\n\n    .dataframe thead th {\n        text-align: right;\n    }\n</style>\n<table border=\"1\" class=\"dataframe\">\n  <thead>\n    <tr style=\"text-align: right;\">\n      <th></th>\n      <th>Nitrato</th>\n      <th>OD</th>\n      <th>Ph</th>\n      <th>ColFecais</th>\n      <th>ColTotais</th>\n      <th>Condutividade</th>\n      <th>DBO</th>\n    </tr>\n  </thead>\n  <tbody>\n    <tr>\n      <th>0</th>\n      <td>0.338</td>\n      <td>3.8</td>\n      <td>6.558</td>\n      <td>3385.0</td>\n      <td>58961.20</td>\n      <td>115.44</td>\n      <td>2.00</td>\n    </tr>\n    <tr>\n      <th>1</th>\n      <td>0.312</td>\n      <td>2.2</td>\n      <td>6.650</td>\n      <td>64340.0</td>\n      <td>51324.40</td>\n      <td>127.16</td>\n      <td>35.72</td>\n    </tr>\n    <tr>\n      <th>2</th>\n      <td>0.164</td>\n      <td>3.3</td>\n      <td>6.490</td>\n      <td>1102.0</td>\n      <td>5966.40</td>\n      <td>139.74</td>\n      <td>2.00</td>\n    </tr>\n    <tr>\n      <th>3</th>\n      <td>0.614</td>\n      <td>4.1</td>\n      <td>6.390</td>\n      <td>3436.4</td>\n      <td>59943.20</td>\n      <td>86.22</td>\n      <td>7.80</td>\n    </tr>\n    <tr>\n      <th>4</th>\n      <td>0.312</td>\n      <td>2.2</td>\n      <td>6.640</td>\n      <td>64340.0</td>\n      <td>51324.40</td>\n      <td>127.16</td>\n      <td>35.72</td>\n    </tr>\n    <tr>\n      <th>...</th>\n      <td>...</td>\n      <td>...</td>\n      <td>...</td>\n      <td>...</td>\n      <td>...</td>\n      <td>...</td>\n      <td>...</td>\n    </tr>\n    <tr>\n      <th>495</th>\n      <td>0.416</td>\n      <td>6.5</td>\n      <td>7.500</td>\n      <td>6626.6</td>\n      <td>10152.40</td>\n      <td>90.80</td>\n      <td>1.60</td>\n    </tr>\n    <tr>\n      <th>496</th>\n      <td>0.494</td>\n      <td>4.6</td>\n      <td>7.680</td>\n      <td>1406.4</td>\n      <td>50868.80</td>\n      <td>89.60</td>\n      <td>7.80</td>\n    </tr>\n    <tr>\n      <th>497</th>\n      <td>0.096</td>\n      <td>5.5</td>\n      <td>6.940</td>\n      <td>10492.0</td>\n      <td>6688.06</td>\n      <td>75.98</td>\n      <td>2.34</td>\n    </tr>\n    <tr>\n      <th>498</th>\n      <td>0.384</td>\n      <td>6.8</td>\n      <td>7.510</td>\n      <td>940.4</td>\n      <td>2203.00</td>\n      <td>102.60</td>\n      <td>2.00</td>\n    </tr>\n    <tr>\n      <th>499</th>\n      <td>0.672</td>\n      <td>8.3</td>\n      <td>7.020</td>\n      <td>602.0</td>\n      <td>3511.62</td>\n      <td>87.00</td>\n      <td>2.00</td>\n    </tr>\n  </tbody>\n</table>\n<p>500 rows × 7 columns</p>\n</div>"
          },
          "metadata": {}
        }
      ],
      "execution_count": 245
    },
    {
      "cell_type": "code",
      "source": "# Valores ideais (VIdeal)\nVIdeal = {'Nitrato': 0, 'OD': 14.6, 'Ph': 7.0, 'ColFecais': 0, 'ColTotais': 0, 'Condutividade': 0, 'DBO': 0}\n\n# Limites permitidos (Si)\nSi = {'Nitrato': 45, 'OD': 10, 'Ph': 8.5, 'ColFecais': 100, 'ColTotais': 1000, 'Condutividade': 1000,  'DBO': 5}\n\n# Calcula a constante k\nk = 1 / sum(Si.values())\n\n# Função para calcular o qi\ndef calcular_qi(Vi, VIdeal, Si):\n    return 100 * (Vi - VIdeal) / (Si - VIdeal)\n\n# Função para calcular o wi\ndef calcular_wi(Si, k):\n    return k / Si\n\n# Para cada parâmetro, calcula-se o qi e wi\ndef WQI(df_imputed):\n    for param in Si.keys():\n        df_imputed[f'qi_{param}'] = calcular_qi(df_imputed[param], VIdeal[param], Si[param])\n        df_imputed[f'wi_{param}'] = calcular_wi(Si[param], k)\n\n    df_imputed['WQI'] = df_imputed[[f'qi_{param}' for param in Si.keys()]].multiply(df_imputed[[f'wi_{param}' for param in Si.keys()]].values).sum(axis=1) / df_imputed[[f'wi_{param}' for param in Si.keys()]].sum(axis=1)\n    return df_imputed\n\ndf_imputed1 = WQI(df_imputed1)\ndf_imputed2 = WQI(df_imputed2)\ndf_imputed3 = WQI(df_imputed3)\ndf_imputed4 = WQI(df_imputed4)\ndf_imputed5 = WQI(df_imputed5)",
      "metadata": {
        "trusted": true
      },
      "outputs": [],
      "execution_count": 237
    },
    {
      "cell_type": "code",
      "source": "# Função para classificar o WQI em faixas\ndef classificar_wqi(wqi):\n    if wqi <= 25:\n        return 1  # Água Limpa\n    elif wqi <= 50:\n        return 2  # Não Limpa\n    elif wqi <= 75:\n        return 3  # Poluída\n    else:\n        return 4  # Altamente Poluída\n\n# Aplica a função para classificar cada valor de WQI\ndf_imputed1['Classificacao'] = df_imputed1['WQI'].apply(classificar_wqi)\ndf_imputed2['Classificacao'] = df_imputed2['WQI'].apply(classificar_wqi)\ndf_imputed3['Classificacao'] = df_imputed3['WQI'].apply(classificar_wqi)\ndf_imputed4['Classificacao'] = df_imputed4['WQI'].apply(classificar_wqi)\ndf_imputed5['Classificacao'] = df_imputed5['WQI'].apply(classificar_wqi)",
      "metadata": {
        "trusted": true
      },
      "outputs": [],
      "execution_count": 241
    },
    {
      "cell_type": "code",
      "source": "# Conta quantas ocorrências há para cada classe de classificação\ncontagem_classificacoes1 = df_imputed1['Classificacao'].value_counts().sort_index()\ncontagem_classificacoes2 = df_imputed2['Classificacao'].value_counts().sort_index()\ncontagem_classificacoes3 = df_imputed3['Classificacao'].value_counts().sort_index()\ncontagem_classificacoes4 = df_imputed4['Classificacao'].value_counts().sort_index()\ncontagem_classificacoes5 = df_imputed5['Classificacao'].value_counts().sort_index()\n\n# Exibe o número de ocorrências para cada classe (1 a 4)\nprint(contagem_classificacoes1)\nprint(contagem_classificacoes2)\nprint(contagem_classificacoes3)\nprint(contagem_classificacoes4)\nprint(contagem_classificacoes5)",
      "metadata": {
        "trusted": true
      },
      "outputs": [
        {
          "name": "stdout",
          "text": "Classificacao\n1      15\n2     299\n3    1304\n4    1165\nName: count, dtype: int64\nClassificacao\n1     10\n2     70\n3    429\n4    440\nName: count, dtype: int64\nClassificacao\n1     11\n2    101\n3    579\n4    454\nName: count, dtype: int64\nClassificacao\n1     11\n2     88\n3    555\n4    660\nName: count, dtype: int64\nClassificacao\n1      4\n2     27\n3    173\n4    296\nName: count, dtype: int64\n",
          "output_type": "stream"
        }
      ],
      "execution_count": 240
    },
    {
      "cell_type": "code",
      "source": "",
      "metadata": {
        "trusted": true
      },
      "outputs": [],
      "execution_count": null
    }
  ]
}