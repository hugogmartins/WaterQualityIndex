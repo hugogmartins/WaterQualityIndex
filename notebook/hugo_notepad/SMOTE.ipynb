{
  "cells": [
    {
      "cell_type": "code",
      "execution_count": 3,
      "metadata": {
        "trusted": true
      },
      "outputs": [],
      "source": [
        "%pip install imbalanced-learn"
      ]
    },
    {
      "cell_type": "code",
      "execution_count": 1,
      "metadata": {
        "trusted": true
      },
      "outputs": [],
      "source": [
        "import pandas as pd\n",
        "from sklearn.model_selection import train_test_split\n",
        "from imblearn.over_sampling import ADASYN\n",
        "from collections import Counter"
      ]
    },
    {
      "cell_type": "code",
      "execution_count": 17,
      "metadata": {
        "trusted": true
      },
      "outputs": [],
      "source": [
        "df_raw = pd.read_csv('/Users/arthurhenrique/Documentos/pessoal/faculdade/documentos/tcc/repository/machine-learning-water-quality/notebook/output/concatenated/wqi_calculado.csv')"
      ]
    },
    {
      "cell_type": "code",
      "execution_count": 18,
      "metadata": {
        "trusted": true
      },
      "outputs": [],
      "source": [
        "df = df_raw[['13_Nitratos_mgl_n)',  '17_OD_mgl_02', '18_PH', '46_Coliformes_Fecais_nmp_100ml', '47_Coliformes_Totais_nmp_100ml', '50_Condutivida_de_Eletrica_us_cm_a_20c', '7_DBO_mgl_02)']]"
      ]
    },
    {
      "cell_type": "code",
      "execution_count": 19,
      "metadata": {
        "trusted": true
      },
      "outputs": [
        {
          "name": "stdout",
          "output_type": "stream",
          "text": [
            "       13_Nitratos_mgl_n)  17_OD_mgl_02  18_PH  \\\n",
            "1                    0.02           7.1   7.64   \n",
            "2                    0.02           7.1   7.60   \n",
            "3                    0.14           7.1   6.90   \n",
            "9                    0.04           6.9   7.20   \n",
            "10                   0.12           6.9   7.00   \n",
            "...                   ...           ...    ...   \n",
            "26510                0.07           7.3   7.00   \n",
            "26511                0.04           8.5   6.80   \n",
            "26512                0.05           7.6   6.00   \n",
            "26513                0.03           7.2   6.00   \n",
            "26515                0.11           7.5   6.00   \n",
            "\n",
            "       46_Coliformes_Fecais_nmp_100ml  47_Coliformes_Totais_nmp_100ml  \\\n",
            "1                                50.0                          1700.0   \n",
            "2                                50.0                          1700.0   \n",
            "3                               170.0                           300.0   \n",
            "9                               110.0                          3000.0   \n",
            "10                              230.0                          1700.0   \n",
            "...                               ...                             ...   \n",
            "26510                           800.0                             0.0   \n",
            "26511                           200.0                             0.0   \n",
            "26512                          1300.0                             0.0   \n",
            "26513                            80.0                             0.0   \n",
            "26515                           200.0                             0.0   \n",
            "\n",
            "       50_Condutivida_de_Eletrica_us_cm_a_20c  7_DBO_mgl_02)  \n",
            "1                                       23.20            2.0  \n",
            "2                                       23.20            2.0  \n",
            "3                                       16.90            2.0  \n",
            "9                                       19.60            2.0  \n",
            "10                                      27.20            2.0  \n",
            "...                                       ...            ...  \n",
            "26510                                  160.00            2.0  \n",
            "26511                                  106.10            2.0  \n",
            "26512                                   92.00            2.0  \n",
            "26513                                   70.60            2.0  \n",
            "26515                                   95.08            2.0  \n",
            "\n",
            "[4112 rows x 7 columns]\n"
          ]
        }
      ],
      "source": [
        "df = df.dropna()\n",
        "\n",
        "print(df)"
      ]
    },
    {
      "cell_type": "code",
      "execution_count": 20,
      "metadata": {
        "trusted": true
      },
      "outputs": [
        {
          "name": "stdout",
          "output_type": "stream",
          "text": [
            "       Nitrato   OD    Ph  ColFecais  ColTotais  Condutividade  DBO\n",
            "1         0.02  7.1  7.64       50.0     1700.0          23.20  2.0\n",
            "2         0.02  7.1  7.60       50.0     1700.0          23.20  2.0\n",
            "3         0.14  7.1  6.90      170.0      300.0          16.90  2.0\n",
            "9         0.04  6.9  7.20      110.0     3000.0          19.60  2.0\n",
            "10        0.12  6.9  7.00      230.0     1700.0          27.20  2.0\n",
            "...        ...  ...   ...        ...        ...            ...  ...\n",
            "26510     0.07  7.3  7.00      800.0        0.0         160.00  2.0\n",
            "26511     0.04  8.5  6.80      200.0        0.0         106.10  2.0\n",
            "26512     0.05  7.6  6.00     1300.0        0.0          92.00  2.0\n",
            "26513     0.03  7.2  6.00       80.0        0.0          70.60  2.0\n",
            "26515     0.11  7.5  6.00      200.0        0.0          95.08  2.0\n",
            "\n",
            "[4112 rows x 7 columns]\n"
          ]
        }
      ],
      "source": [
        "df.columns = ['Nitrato', 'OD', 'Ph', 'ColFecais', 'ColTotais', 'Condutividade', 'DBO']\n",
        "\n",
        "print(df)"
      ]
    },
    {
      "cell_type": "code",
      "execution_count": 21,
      "metadata": {
        "trusted": true
      },
      "outputs": [
        {
          "name": "stdout",
          "output_type": "stream",
          "text": [
            "1        66.384825\n",
            "2        65.690542\n",
            "3        55.898108\n",
            "9        61.326792\n",
            "10       60.233739\n",
            "           ...    \n",
            "26510    70.571343\n",
            "26511    48.033421\n",
            "26512    62.818882\n",
            "26513    37.737376\n",
            "26515    38.963891\n",
            "Name: WQI, Length: 4112, dtype: float64\n"
          ]
        }
      ],
      "source": [
        "# Valores ideais (VIdeal)\n",
        "VIdeal = {'Nitrato': 0, 'OD': 14.6, 'Ph': 7.0, 'ColFecais': 0, 'ColTotais': 0, 'Condutividade': 0, 'DBO': 0}\n",
        "\n",
        "# Limites permitidos (Si)\n",
        "Si = {'Nitrato': 45, 'OD': 10, 'Ph': 8.5, 'ColFecais': 100, 'ColTotais': 1000, 'Condutividade': 1000,  'DBO': 5}\n",
        "\n",
        "# Calcula a constante k\n",
        "k = 1 / sum(Si.values())\n",
        "\n",
        "# Função para calcular o qi\n",
        "def calcular_qi(Vi, VIdeal, Si):\n",
        "    return 100 * (Vi - VIdeal) / (Si - VIdeal)\n",
        "\n",
        "# Função para calcular o wi\n",
        "def calcular_wi(Si, k):\n",
        "    return k / Si\n",
        "\n",
        "# Para cada parâmetro, calcula-se o qi e wi\n",
        "def WQI(df_imputed):\n",
        "    for param in Si.keys():\n",
        "        df_imputed[f'qi_{param}'] = calcular_qi(df_imputed[param], VIdeal[param], Si[param])\n",
        "        df_imputed[f'wi_{param}'] = calcular_wi(Si[param], k)\n",
        "\n",
        "    df_imputed['WQI'] = df_imputed[[f'qi_{param}' for param in Si.keys()]].multiply(df_imputed[[f'wi_{param}' for param in Si.keys()]].values).sum(axis=1) / df_imputed[[f'wi_{param}' for param in Si.keys()]].sum(axis=1)\n",
        "    return df_imputed\n",
        "\n",
        "df = WQI(df)\n",
        "\n",
        "print(df['WQI'])"
      ]
    },
    {
      "cell_type": "code",
      "execution_count": 22,
      "metadata": {
        "trusted": true
      },
      "outputs": [
        {
          "name": "stdout",
          "output_type": "stream",
          "text": [
            "1        3\n",
            "2        3\n",
            "3        3\n",
            "9        3\n",
            "10       3\n",
            "        ..\n",
            "26510    3\n",
            "26511    2\n",
            "26512    3\n",
            "26513    2\n",
            "26515    2\n",
            "Name: Classificacao, Length: 4112, dtype: int64\n"
          ]
        }
      ],
      "source": [
        "# Função para classificar o WQI em faixas\n",
        "def classificar_wqi(wqi):\n",
        "    if wqi <= 25:\n",
        "        return 1  # Água Limpa\n",
        "    elif wqi <= 50:\n",
        "        return 2  # Não Limpa\n",
        "    elif wqi <= 75:\n",
        "        return 3  # Poluída\n",
        "    else:\n",
        "        return 4  # Altamente Poluída\n",
        "\n",
        "# Aplica a função para classificar cada valor de WQI\n",
        "df['Classificacao'] = df['WQI'].apply(classificar_wqi)\n",
        "\n",
        "print(df['Classificacao'])"
      ]
    },
    {
      "cell_type": "code",
      "execution_count": 23,
      "metadata": {
        "trusted": true
      },
      "outputs": [
        {
          "name": "stdout",
          "output_type": "stream",
          "text": [
            "Classificacao\n",
            "1      15\n",
            "2     152\n",
            "3    1444\n",
            "4    2501\n",
            "Name: count, dtype: int64\n"
          ]
        }
      ],
      "source": [
        "contagem_classificacoes = df['Classificacao'].value_counts().sort_index()\n",
        "\n",
        "print(contagem_classificacoes)"
      ]
    },
    {
      "cell_type": "code",
      "execution_count": 3,
      "metadata": {
        "trusted": true
      },
      "outputs": [
        {
          "name": "stdout",
          "output_type": "stream",
          "text": [
            "Distribuição original das classes: Counter({4: 2501, 3: 1444, 2: 152, 1: 15})\n",
            "Distribuição das classes após ADASYN: Counter({3: 2682, 4: 2501, 1: 2501, 2: 2493})\n"
          ]
        }
      ],
      "source": [
        "\n",
        "# dados\n",
        "df_raw = pd.read_csv('/Users/arthurhenrique/Documentos/pessoal/faculdade/documentos/tcc/repository/machine-learning-water-quality/notebook/output/concatenated/wqi_calculado.csv')\n",
        "\n",
        "# Separar os dados em variáveis independentes (X) e dependentes (y)\n",
        "X = df_raw.drop('WQI', axis=1)  # Variáveis independentes\n",
        "y = df_raw['WQI']  # Variável dependente (rótulo/classe)\n",
        "\n",
        "# Verificar o balanceamento inicial das classes\n",
        "print(f\"Distribuição original das classes: {Counter(y)}\")\n",
        "\n",
        "# Aplicar ADASYN para balancear as classes\n",
        "adasyn = ADASYN(random_state=42)\n",
        "X_res, y_res = adasyn.fit_resample(X, y)\n",
        "\n",
        "# Verificar o balanceamento após ADASYN\n",
        "print(f\"Distribuição das classes após ADASYN: {Counter(y_res)}\")\n",
        "\n",
        "# Exibir os dados balanceados\n",
        "df_balanceado = pd.concat([pd.DataFrame(X_res, columns=X.columns), pd.DataFrame(y_res, columns=['Classificacao'])], axis=1)\n",
        "\n",
        "df_balanceado.to_csv('/Users/arthurhenrique/Documentos/pessoal/faculdade/documentos/tcc/repository/machine-learning-water-quality/notebook/output/amostra_ADASYN.csv', index=False)"
      ]
    },
    {
      "cell_type": "code",
      "execution_count": null,
      "metadata": {
        "trusted": true
      },
      "outputs": [],
      "source": []
    }
  ],
  "metadata": {
    "kernelspec": {
      "display_name": "base",
      "language": "python",
      "name": "python3"
    },
    "language_info": {
      "codemirror_mode": {
        "name": "ipython",
        "version": 3
      },
      "file_extension": ".py",
      "mimetype": "text/x-python",
      "name": "python",
      "nbconvert_exporter": "python",
      "pygments_lexer": "ipython3",
      "version": "3.12.2"
    }
  },
  "nbformat": 4,
  "nbformat_minor": 4
}
