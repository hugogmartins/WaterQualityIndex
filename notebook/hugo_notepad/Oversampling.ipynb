{
  "cells": [
    {
      "cell_type": "code",
      "execution_count": 13,
      "metadata": {
        "trusted": true
      },
      "outputs": [],
      "source": [
        "import pandas as pd\n",
        "from sklearn.model_selection import train_test_split\n",
        "from imblearn.over_sampling import ADASYN\n",
        "from imblearn.over_sampling import SMOTE\n",
        "from collections import Counter"
      ]
    },
    {
      "cell_type": "code",
      "execution_count": 14,
      "metadata": {},
      "outputs": [],
      "source": [
        "df = pd.read_csv('C:/Users/Hugo/machine-learning-water-quality/notebook/output/concatenated/wqi_calculado.csv')"
      ]
    },
    {
      "cell_type": "code",
      "execution_count": 15,
      "metadata": {
        "trusted": true
      },
      "outputs": [
        {
          "name": "stdout",
          "output_type": "stream",
          "text": [
            "Distribuição original das classes: Counter({4: 2501, 3: 1444, 2: 152, 1: 15})\n",
            "Distribuição das classes após ADASYN: Counter({3: 2682, 4: 2501, 1: 2501, 2: 2493})\n"
          ]
        }
      ],
      "source": [
        "# Separar os dados em variáveis independentes (X) e dependentes (y)\n",
        "X = df.drop('WQI', axis=1)  # Variáveis independentes\n",
        "y = df['WQI']  # Variável dependente (rótulo/classe)\n",
        "\n",
        "# Verificar o balanceamento inicial das classes\n",
        "print(f\"Distribuição original das classes: {Counter(y)}\")\n",
        "\n",
        "# Aplicar ADASYN para balancear as classes\n",
        "adasyn = ADASYN(random_state=42)\n",
        "X_res, y_res = adasyn.fit_resample(X, y)\n",
        "\n",
        "# Verificar o balanceamento após ADASYN\n",
        "print(f\"Distribuição das classes após ADASYN: {Counter(y_res)}\")\n",
        "\n",
        "# Exibir os dados balanceados\n",
        "df_res_ADASYN = pd.concat([pd.DataFrame(X_res, columns=X.columns), pd.DataFrame(y_res, columns=['WQI'])], axis=1)\n",
        "\n",
        "df_res_ADASYN.to_csv('C:/Users/Hugo/machine-learning-water-quality/notebook/output/adasyn.csv')"
      ]
    },
    {
      "cell_type": "code",
      "execution_count": 16,
      "metadata": {
        "trusted": true
      },
      "outputs": [
        {
          "name": "stdout",
          "output_type": "stream",
          "text": [
            "Distribuição original das classes: Counter({4: 2501, 3: 1444, 2: 152, 1: 15})\n",
            "Distribuição das classes após ADASYN: Counter({3: 2501, 4: 2501, 2: 2501, 1: 2501})\n"
          ]
        }
      ],
      "source": [
        "X = df.drop('WQI', axis=1)\n",
        "\n",
        "y = df['WQI']\n",
        "\n",
        "print(f\"Distribuição original das classes: {Counter(y)}\")\n",
        "\n",
        "smote = SMOTE(random_state=42)\n",
        "x_res, y_res = smote.fit_resample(X, y)\n",
        "\n",
        "df_res_SMOTE = pd.concat([pd.DataFrame(X_res, columns=X.columns), pd.DataFrame(y_res, columns=['WQI'])], axis=1)\n",
        "\n",
        "print(f\"Distribuição das classes após ADASYN: {Counter(y_res)}\")\n",
        "\n",
        "df_res_SMOTE.to_csv('C:/Users/Hugo/machine-learning-water-quality/notebook/output/smote.csv')"
      ]
    }
  ],
  "metadata": {
    "kernelspec": {
      "display_name": "Python 3",
      "language": "python",
      "name": "python3"
    },
    "language_info": {
      "codemirror_mode": {
        "name": "ipython",
        "version": 3
      },
      "file_extension": ".py",
      "mimetype": "text/x-python",
      "name": "python",
      "nbconvert_exporter": "python",
      "pygments_lexer": "ipython3",
      "version": "3.11.4"
    }
  },
  "nbformat": 4,
  "nbformat_minor": 4
}
