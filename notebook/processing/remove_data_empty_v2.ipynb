{
 "cells": [
  {
   "cell_type": "markdown",
   "metadata": {},
   "source": [
    "Remocao dos campos vazios para analise"
   ]
  },
  {
   "cell_type": "code",
   "execution_count": 3,
   "metadata": {},
   "outputs": [],
   "source": [
    "import pandas as pd\n",
    "\n",
    "df = pd.read_csv(\"/Users/arthurhenrique/Documentos/pessoal/faculdade/documentos/tcc/repository/machine-learning-water-quality/notebook/output/concatenated/output_select_parameters_.csv\")\n",
    "df.replace(r'^\\s*$', float('NaN'), regex=True, inplace=True)\n",
    "\n",
    "df_drop = df.dropna(subset=['17_OD_mgl_02','18_PH','50_Condutivida_de_Eletrica_us_cm_a_20c','13_Nitratos_mgl_n)','46_Coliformes_Fecais_nmp_100ml','47_Coliformes_Totais_nmp_100ml','7_DBO_mgl_02)'])\n",
    "\n",
    "df_drop.to_csv(\"/Users/arthurhenrique/Documentos/pessoal/faculdade/documentos/tcc/repository/machine-learning-water-quality/notebook/output/concatenated/output_remove_data_nan.csv\", index=False)"
   ]
  }
 ],
 "metadata": {
  "kernelspec": {
   "display_name": "base",
   "language": "python",
   "name": "python3"
  },
  "language_info": {
   "codemirror_mode": {
    "name": "ipython",
    "version": 3
   },
   "file_extension": ".py",
   "mimetype": "text/x-python",
   "name": "python",
   "nbconvert_exporter": "python",
   "pygments_lexer": "ipython3",
   "version": "3.12.2"
  }
 },
 "nbformat": 4,
 "nbformat_minor": 2
}
