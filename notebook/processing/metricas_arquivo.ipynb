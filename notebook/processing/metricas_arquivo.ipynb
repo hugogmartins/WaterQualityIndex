{
 "cells": [
  {
   "cell_type": "markdown",
   "metadata": {},
   "source": [
    "<h4> Calculando as metricas com o intuito de externalizar em documento."
   ]
  },
  {
   "cell_type": "code",
   "execution_count": 9,
   "metadata": {},
   "outputs": [],
   "source": [
    "import pandas as pd\n",
    "\n",
    "def calculationMetricas(df, colunm, df_result):\n",
    "    # Calcular as métricas\n",
    "    metrics = {\n",
    "        'Count': df.count(),\n",
    "        'Mean': df.mean(),\n",
    "        'Std': df.std(),\n",
    "        'Min': df.min(),\n",
    "        '25%': df.quantile(0.25),\n",
    "        '50%': df.median(),\n",
    "        '75%': df.quantile(0.75),\n",
    "        'Max': df.max()\n",
    "    }\n",
    "\n",
    "    df_result[colunm] = pd.Series(metrics)\n",
    "\n",
    "def executeCalculationMetricas(path):\n",
    "    data_wqi = pd.read_csv(path)\n",
    "    metrics_df = pd.DataFrame(data=None)\n",
    "\n",
    "    for colunm in data_wqi.columns:\n",
    "        calculationMetricas(data_wqi[colunm], colunm, metrics_df)\n",
    "    \n",
    "    metrics_df.to_csv('/Users/arthurhenrique/Documentos/pessoal/faculdade/documentos/tcc/repository/machine-learning-water-quality/notebook/base_consolidada/arquivo_amostra_177_metricas_wqi.csv')\n",
    "    \n",
    "\n",
    "executeCalculationMetricas('/Users/arthurhenrique/Documentos/pessoal/faculdade/documentos/tcc/repository/machine-learning-water-quality/notebook/base_consolidada/amostra_por_classificador_wqi.csv')\n",
    "\n"
   ]
  }
 ],
 "metadata": {
  "kernelspec": {
   "display_name": "base",
   "language": "python",
   "name": "python3"
  },
  "language_info": {
   "codemirror_mode": {
    "name": "ipython",
    "version": 3
   },
   "file_extension": ".py",
   "mimetype": "text/x-python",
   "name": "python",
   "nbconvert_exporter": "python",
   "pygments_lexer": "ipython3",
   "version": "3.12.2"
  }
 },
 "nbformat": 4,
 "nbformat_minor": 2
}
