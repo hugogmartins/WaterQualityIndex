{
 "cells": [
  {
   "cell_type": "markdown",
   "metadata": {},
   "source": [
    "juntando os arquivos para formar uma base balanceada - 180"
   ]
  },
  {
   "cell_type": "code",
   "execution_count": 6,
   "metadata": {},
   "outputs": [
    {
     "name": "stderr",
     "output_type": "stream",
     "text": [
      "/var/folders/5j/y78gd57x17n5wslbx8s54x380000gn/T/ipykernel_26596/2132158692.py:10: DeprecationWarning: DataFrameGroupBy.apply operated on the grouping columns. This behavior is deprecated, and in a future version of pandas the grouping columns will be excluded from the operation. Either pass `include_groups=False` to exclude the groupings or explicitly select the grouping columns after groupby to silence this warning.\n",
      "  classificados = df.groupby('WQI', group_keys=False).apply(lambda x: x.sample(min(len(x), 177)))\n"
     ]
    }
   ],
   "source": [
    "import pandas as pd\n",
    "\n",
    "csv_files = [\n",
    "    '/Users/arthurhenrique/Documentos/pessoal/faculdade/documentos/tcc/repository/machine-learning-water-quality/notebook/base_consolidada/wqi_arquivo_calculado_amazonia.csv',\n",
    "    '/Users/arthurhenrique/Documentos/pessoal/faculdade/documentos/tcc/repository/machine-learning-water-quality/notebook/base_consolidada/wqi_arquivo_calculado_sao_francisco.csv']\n",
    "dataframes = [pd.read_csv(file) for file in csv_files]\n",
    "\n",
    "df = pd.concat(dataframes, ignore_index=True)\n",
    "\n",
    "classificados = df.groupby('WQI', group_keys=False).apply(lambda x: x.sample(min(len(x), 177)))\n",
    "classificados.to_csv('/Users/arthurhenrique/Documentos/pessoal/faculdade/documentos/tcc/repository/machine-learning-water-quality/notebook/output/amostra_por_classificador.csv', index=False)"
   ]
  },
  {
   "cell_type": "markdown",
   "metadata": {},
   "source": [
    "contagem por classificador\n"
   ]
  },
  {
   "cell_type": "code",
   "execution_count": 7,
   "metadata": {},
   "outputs": [
    {
     "data": {
      "text/plain": [
       "WQI\n",
       "1    177\n",
       "2    177\n",
       "3    177\n",
       "4    177\n",
       "Name: count, dtype: int64"
      ]
     },
     "execution_count": 7,
     "metadata": {},
     "output_type": "execute_result"
    }
   ],
   "source": [
    "classificados['WQI'].value_counts()"
   ]
  }
 ],
 "metadata": {
  "kernelspec": {
   "display_name": "base",
   "language": "python",
   "name": "python3"
  },
  "language_info": {
   "codemirror_mode": {
    "name": "ipython",
    "version": 3
   },
   "file_extension": ".py",
   "mimetype": "text/x-python",
   "name": "python",
   "nbconvert_exporter": "python",
   "pygments_lexer": "ipython3",
   "version": "3.12.4"
  }
 },
 "nbformat": 4,
 "nbformat_minor": 2
}
